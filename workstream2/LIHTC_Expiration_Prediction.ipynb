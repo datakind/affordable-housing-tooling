{
 "cells": [
  {
   "cell_type": "markdown",
   "metadata": {},
   "source": [
    "PLEASE FILL IN SECTIONS BELOW, REPLACING ITALIC TEXT WITH YOUR CONTENT\n",
    "\n",
    "# Introduction\n",
    "ADD A SUMMARY OF WHAT THIS NOTEBOOK DOES, KEY FINDINGS, PLUS ANY USEFUL DETAILS THAT MIGHT HELP OTHERS RUN IT. A FEW SENTENCES GO A LONG WAY!\n",
    "\n",
    "# Setup\n",
    "## Data\n",
    "VERY, VERY IMPORTANT PLEASE PROVIDE DEATILS ABOUT THE DATA YOU USED AND HOW TO GET IT SO OTHERS CAN RUN THIS AMAZING NOTEBOOK TOO\n",
    "\n",
    "|Dataset               | Type           | Description                                     |  Where to get the data |\n",
    "|----------------------|----------------|-------------------------------------------------|------------------------|\n",
    "|                      |                |                                                 |                        |\n",
    "|                      |                |                                                 |                        |\n",
    "|                      |                |                                                 |                        |\n",
    "\n",
    "## Environment\n",
    "PLEASE RUN THE PANEL BELOW SO OTHERS KNOW EXACTLY THE ENVIRONMENT"
   ]
  },
  {
   "cell_type": "code",
   "execution_count": null,
   "metadata": {},
   "outputs": [],
   "source": [
    "# Add package installs here, for example ...\n",
    "# !pip install pycurl\n",
    "\n",
    "!python -V\n",
    "!pip list"
   ]
  },
  {
   "cell_type": "code",
   "execution_count": null,
   "metadata": {},
   "outputs": [],
   "source": [
    "# Add imports here\n",
    "import pandas as pd\n",
    "import os\n",
    "# ... etc"
   ]
  },
  {
   "cell_type": "markdown",
   "metadata": {},
   "source": [
    "## Settings\n",
    "PLEASE USE VARIABLES FOR THINGS LIKE FILE LOCATIONS AND CONFIGURATION SETTINGS"
   ]
  },
  {
   "cell_type": "code",
   "execution_count": null,
   "metadata": {},
   "outputs": [],
   "source": [
    "# Some examples ...\n",
    "DATA_DIRECTORY = './/'\n",
    "USER_NAME = ''\n",
    "\n",
    "# Please always use environment variables for sensative credentials, never commit credentials to github\n",
    "USER_PASSWORD = os.environ['USER_PASSWORD']"
   ]
  },
  {
   "cell_type": "markdown",
   "metadata": {},
   "source": [
    "## Data"
   ]
  },
  {
   "cell_type": "code",
   "execution_count": null,
   "metadata": {},
   "outputs": [],
   "source": [
    "# Put code here for getting your data. Use tools such as curl and wget if data is available online"
   ]
  },
  {
   "cell_type": "markdown",
   "metadata": {},
   "source": [
    "## Analysis"
   ]
  },
  {
   "cell_type": "code",
   "execution_count": null,
   "metadata": {},
   "outputs": [],
   "source": [
    "# This is where the magic happens!!!! Add your work here"
   ]
  }
 ],
 "metadata": {
  "language_info": {
   "name": "python"
  },
  "orig_nbformat": 4
 },
 "nbformat": 4,
 "nbformat_minor": 2
}
